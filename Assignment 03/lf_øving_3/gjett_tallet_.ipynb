{
 "cells": [
  {
   "cell_type": "code",
   "execution_count": 3,
   "metadata": {},
   "outputs": [
    {
     "name": "stdout",
     "output_type": "stream",
     "text": [
      "The correct number is lower\n",
      "The correct number is lower\n",
      "The correct number is lower\n",
      "The correct number is lower\n",
      "The correct number is lower\n",
      "The correct number is lower\n",
      "The correct number is lower\n",
      "The correct number is higher\n"
     ]
    },
    {
     "ename": "ValueError",
     "evalue": "invalid literal for int() with base 10: ''",
     "output_type": "error",
     "traceback": [
      "\u001b[1;31m---------------------------------------------------------------------------\u001b[0m",
      "\u001b[1;31mValueError\u001b[0m                                Traceback (most recent call last)",
      "\u001b[1;32mc:\\Users\\manna\\Desktop\\ING-TA\\Assignment 03\\lf_øving_3\\gjett_tallet_.ipynb Cell 1\u001b[0m in \u001b[0;36m<cell line: 18>\u001b[1;34m()\u001b[0m\n\u001b[0;32m     <a href='vscode-notebook-cell:/c%3A/Users/manna/Desktop/ING-TA/Assignment%2003/lf_%C3%B8ving_3/gjett_tallet_.ipynb#W0sZmlsZQ%3D%3D?line=13'>14</a>\u001b[0m         guess \u001b[39m=\u001b[39m \u001b[39mint\u001b[39m(\u001b[39minput\u001b[39m(\u001b[39m\"\u001b[39m\u001b[39mMake a guess? \u001b[39m\u001b[39m\"\u001b[39m))\n\u001b[0;32m     <a href='vscode-notebook-cell:/c%3A/Users/manna/Desktop/ING-TA/Assignment%2003/lf_%C3%B8ving_3/gjett_tallet_.ipynb#W0sZmlsZQ%3D%3D?line=14'>15</a>\u001b[0m     \u001b[39mprint\u001b[39m(\u001b[39m\"\u001b[39m\u001b[39mCorrect, well done! \u001b[39m\u001b[39m\"\u001b[39m)\n\u001b[1;32m---> <a href='vscode-notebook-cell:/c%3A/Users/manna/Desktop/ING-TA/Assignment%2003/lf_%C3%B8ving_3/gjett_tallet_.ipynb#W0sZmlsZQ%3D%3D?line=17'>18</a>\u001b[0m gjettelek(a, b)\n",
      "\u001b[1;32mc:\\Users\\manna\\Desktop\\ING-TA\\Assignment 03\\lf_øving_3\\gjett_tallet_.ipynb Cell 1\u001b[0m in \u001b[0;36mgjettelek\u001b[1;34m(a, b)\u001b[0m\n\u001b[0;32m     <a href='vscode-notebook-cell:/c%3A/Users/manna/Desktop/ING-TA/Assignment%2003/lf_%C3%B8ving_3/gjett_tallet_.ipynb#W0sZmlsZQ%3D%3D?line=11'>12</a>\u001b[0m     \u001b[39melse\u001b[39;00m:\n\u001b[0;32m     <a href='vscode-notebook-cell:/c%3A/Users/manna/Desktop/ING-TA/Assignment%2003/lf_%C3%B8ving_3/gjett_tallet_.ipynb#W0sZmlsZQ%3D%3D?line=12'>13</a>\u001b[0m         \u001b[39mprint\u001b[39m(\u001b[39m\"\u001b[39m\u001b[39mThe correct number is lower\u001b[39m\u001b[39m\"\u001b[39m)\n\u001b[1;32m---> <a href='vscode-notebook-cell:/c%3A/Users/manna/Desktop/ING-TA/Assignment%2003/lf_%C3%B8ving_3/gjett_tallet_.ipynb#W0sZmlsZQ%3D%3D?line=13'>14</a>\u001b[0m     guess \u001b[39m=\u001b[39m \u001b[39mint\u001b[39;49m(\u001b[39minput\u001b[39;49m(\u001b[39m\"\u001b[39;49m\u001b[39mMake a guess? \u001b[39;49m\u001b[39m\"\u001b[39;49m))\n\u001b[0;32m     <a href='vscode-notebook-cell:/c%3A/Users/manna/Desktop/ING-TA/Assignment%2003/lf_%C3%B8ving_3/gjett_tallet_.ipynb#W0sZmlsZQ%3D%3D?line=14'>15</a>\u001b[0m \u001b[39mprint\u001b[39m(\u001b[39m\"\u001b[39m\u001b[39mCorrect, well done! \u001b[39m\u001b[39m\"\u001b[39m)\n",
      "\u001b[1;31mValueError\u001b[0m: invalid literal for int() with base 10: ''"
     ]
    }
   ],
   "source": [
    "import random\n",
    "a = int(input(\"Oppgi en nedre grense: \"))\n",
    "b = int(input(\"Oppgi en øvre grense: \"))\n",
    "\n",
    "\n",
    "def gjettelek(a, b):\n",
    "    tilfeldig_tall = random.randint(a, b)\n",
    "    guess = int(input(\"Make a guess? \"))\n",
    "    while guess != tilfeldig_tall:\n",
    "        if tilfeldig_tall > guess:\n",
    "            print(\"The correct number is higher\")\n",
    "        else:\n",
    "            print(\"The correct number is lower\")\n",
    "        guess = int(input(\"Make a guess? \"))\n",
    "    print(\"Correct, well done! \")\n",
    "\n",
    "\n",
    "gjettelek(a, b)\n"
   ]
  },
  {
   "cell_type": "code",
   "execution_count": null,
   "metadata": {},
   "outputs": [],
   "source": []
  }
 ],
 "metadata": {
  "kernelspec": {
   "display_name": "Python 3",
   "language": "python",
   "name": "python3"
  },
  "language_info": {
   "codemirror_mode": {
    "name": "ipython",
    "version": 3
   },
   "file_extension": ".py",
   "mimetype": "text/x-python",
   "name": "python",
   "nbconvert_exporter": "python",
   "pygments_lexer": "ipython3",
   "version": "3.10.4"
  }
 },
 "nbformat": 4,
 "nbformat_minor": 2
}
