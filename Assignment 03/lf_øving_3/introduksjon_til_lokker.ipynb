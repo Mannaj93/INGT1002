{
 "cells": [
  {
   "cell_type": "markdown",
   "metadata": {},
   "source": [
    "a)"
   ]
  },
  {
   "cell_type": "code",
   "execution_count": null,
   "metadata": {},
   "outputs": [],
   "source": [
    "def diss_brukeren_n_ganger(n):\n",
    "\n",
    "    for i in range(n):\n",
    "        adj = input(\"Beskriv deg selv med et adjektiv? \")\n",
    "        print(\"Hah, du\", adj + \"!? Jeg er mye\", adj + \"ere!\")\n",
    "\n",
    "    print(\"Takk for nå!\")\n",
    "\n",
    "\n",
    "n = int(input(\"Hvor mange adjektiv vil du gi? \"))\n",
    "diss_brukeren_n_ganger(n)\n"
   ]
  },
  {
   "cell_type": "markdown",
   "metadata": {},
   "source": [
    "b)"
   ]
  },
  {
   "cell_type": "code",
   "execution_count": 5,
   "metadata": {},
   "outputs": [
    {
     "name": "stdout",
     "output_type": "stream",
     "text": [
      "Hah, du  !? Jeg er mye  ere!\n",
      "Hah, du evil!? Jeg er mye evilere!\n",
      "Hah, du evil!? Jeg er mye evilere!\n",
      "Hah, du !? Jeg er mye ere!\n",
      "Takk for nå!\n"
     ]
    }
   ],
   "source": [
    "def diss_brukeren_gjentatte_ganger():\n",
    "    adj = \" \"\n",
    "    while adj != \"\":\n",
    "        adj = input(\"Beskriv deg selv med et adjektiv? \")\n",
    "        print(\"Hah, du\", adj + \"!? Jeg er mye\", adj + \"ere!\")\n",
    "    print(\"Takk for nå!\")\n",
    "\n",
    "diss_brukeren_gjentatte_ganger()\n"
   ]
  },
  {
   "cell_type": "markdown",
   "metadata": {},
   "source": [
    "c)\n"
   ]
  },
  {
   "cell_type": "code",
   "execution_count": null,
   "metadata": {},
   "outputs": [],
   "source": [
    "def mindre_enn_42_bokst():\n",
    "    bokst = 42\n",
    "\n",
    "    while bokst > 0:\n",
    "        print(\"Du har\", bokst, \"bokstaver til disposisjon.\")\n",
    "        adj = input(\"Beskriv deg selv med et adjektiv? \")\n",
    "        print(\"Hah, du\", adj + \"!? Jeg er mye\", adj + \"ere!\")\n",
    "        bokst = bokst - len(adj)\n",
    "\n",
    "    print(\"Takk for nå!\")\n",
    "\n",
    "\n",
    "mindre_enn_42_bokst()\n"
   ]
  },
  {
   "cell_type": "markdown",
   "metadata": {},
   "source": [
    "d)"
   ]
  },
  {
   "cell_type": "code",
   "execution_count": 2,
   "metadata": {},
   "outputs": [
    {
     "name": "stdout",
     "output_type": "stream",
     "text": [
      "Oddetallene fra 1 til 20:\n",
      "1 3 5 7 9 11 13 15 17 19 \n",
      "Tallene i 3-gangen mellom 12 og 25:\n",
      "12 15 18 21 24 \n",
      "Tallene i 5-gangen mellom 20 og 81:\n",
      "20 25 30 35 40 45 50 55 60 65 70 75 80 \n",
      "Tallsekvensen 48, 56, 64, 72, 80\n",
      "48 56 64 72 80 \n",
      "Telle baklengs fra 100 til 80, med intervall på -3, dvs. 100, 97, ...:\n",
      "100 97 94 91 88 85 82 \n"
     ]
    }
   ],
   "source": [
    "print(\"Oddetallene fra 1 til 20:\")\n",
    "for number in range(1, 20, 2):\n",
    "    print(number, end=\" \")\n",
    "print()\n",
    "\n",
    "print(\"Tallene i 3-gangen mellom 12 og 25:\")\n",
    "for number in range(12, 25, 3):\n",
    "    print(number, end=\" \")\n",
    "print()\n",
    "\n",
    "\n",
    "def x_gangen(x):\n",
    "    for number in range(x, x*10 + 1, x):\n",
    "        print(number, end=\" \")\n",
    "    print()\n",
    "\n",
    "# Not used\n",
    "\n",
    "\n",
    "print(\"Tallene i 5-gangen mellom 20 og 81:\")\n",
    "for number in range(20, 81, 5):\n",
    "    print(number, end=\" \")\n",
    "print()\n",
    "\n",
    "print(\"Tallsekvensen 48, 56, 64, 72, 80\")\n",
    "for number in range(48, 81, 8):\n",
    "    print(number, end=\" \")\n",
    "print()\n",
    "\n",
    "print(\"Telle baklengs fra 100 til 80, med intervall på -3, dvs. 100, 97, ...:\")\n",
    "for number in range(100, 80, -3):\n",
    "    print(number, end=\" \")\n",
    "print()\n"
   ]
  },
  {
   "cell_type": "markdown",
   "metadata": {},
   "source": [
    "e)"
   ]
  },
  {
   "cell_type": "code",
   "execution_count": 1,
   "metadata": {},
   "outputs": [
    {
     "name": "stdout",
     "output_type": "stream",
     "text": [
      "1\n",
      "2\n",
      "3\n",
      "4\n",
      "5\n",
      "6\n"
     ]
    }
   ],
   "source": [
    "def print_numbers(start, stop):\n",
    "    for i in range(start, stop+1):\n",
    "        print(i)\n",
    "\n",
    "\n",
    "print_numbers(1, 6)\n"
   ]
  },
  {
   "cell_type": "markdown",
   "metadata": {},
   "source": [
    "f)"
   ]
  },
  {
   "cell_type": "code",
   "execution_count": 3,
   "metadata": {},
   "outputs": [
    {
     "name": "stdout",
     "output_type": "stream",
     "text": [
      "15\n",
      "14\n",
      "13\n",
      "12\n",
      "11\n",
      "10\n",
      "9\n",
      "8\n",
      "7\n",
      "6\n",
      "5\n",
      "4\n",
      "3\n",
      "2\n",
      "1\n"
     ]
    }
   ],
   "source": [
    "def print_numbers_reversed(start, stop):\n",
    "    for i in range(stop, start, -1):\n",
    "        print(i)\n",
    "\n",
    "\n",
    "print_numbers_reversed(0, 15)\n"
   ]
  }
 ],
 "metadata": {
  "kernelspec": {
   "display_name": "Python 3",
   "language": "python",
   "name": "python3"
  },
  "language_info": {
   "codemirror_mode": {
    "name": "ipython",
    "version": 3
   },
   "file_extension": ".py",
   "mimetype": "text/x-python",
   "name": "python",
   "nbconvert_exporter": "python",
   "pygments_lexer": "ipython3",
   "version": "3.10.4"
  }
 },
 "nbformat": 4,
 "nbformat_minor": 2
}
