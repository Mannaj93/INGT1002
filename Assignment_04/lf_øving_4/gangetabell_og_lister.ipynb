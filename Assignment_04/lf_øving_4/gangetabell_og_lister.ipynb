{
 "cells": [
  {
   "cell_type": "code",
   "execution_count": 1,
   "metadata": {},
   "outputs": [
    {
     "name": "stdout",
     "output_type": "stream",
     "text": [
      "[[1, 2, 3, 4], [2, 4, 6, 8], [3, 6, 9, 12], [4, 8, 12, 16]]\n"
     ]
    }
   ],
   "source": [
    "# a)\n",
    "\n",
    "def separate(numbers, threshold):\n",
    "    list1 = []\n",
    "    list2 = []\n",
    "    for i in numbers:\n",
    "        if i < threshold:\n",
    "            list1 . append(i)\n",
    "        else:\n",
    "            list2 . append(i)\n",
    "    return list1, list2\n",
    "\n",
    "# b)\n",
    "\n",
    "\n",
    "def multiplication_table(n):\n",
    "    multiplication_table = []\n",
    "    for y in range(1, n + 1):\n",
    "        row = []\n",
    "        for x in range(1, n + 1):\n",
    "            row.append(x * y)\n",
    "        multiplication_table.append(row)\n",
    "    return multiplication_table\n",
    "\n",
    "\n",
    "print(multiplication_table(4))\n"
   ]
  },
  {
   "cell_type": "code",
   "execution_count": null,
   "metadata": {},
   "outputs": [],
   "source": []
  }
 ],
 "metadata": {
  "kernelspec": {
   "display_name": "Python 3",
   "language": "python",
   "name": "python3"
  },
  "language_info": {
   "codemirror_mode": {
    "name": "ipython",
    "version": 3
   },
   "file_extension": ".py",
   "mimetype": "text/x-python",
   "name": "python",
   "nbconvert_exporter": "python",
   "pygments_lexer": "ipython3",
   "version": "3.10.4"
  }
 },
 "nbformat": 4,
 "nbformat_minor": 2
}
