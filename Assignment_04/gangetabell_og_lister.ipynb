{
 "cells": [
  {
   "cell_type": "markdown",
   "metadata": {
    "deletable": false,
    "editable": false,
    "run_control": {
     "frozen": true
    }
   },
   "source": [
    "# Gangetabell og lister\n",
    "\n",
    "**Læringsmål:**\n",
    "\n",
    "* Løkker\n",
    "* Lister\n",
    "\n",
    "\n"
   ]
  },
  {
   "cell_type": "markdown",
   "metadata": {
    "deletable": false,
    "editable": false,
    "run_control": {
     "frozen": true
    }
   },
   "source": [
    "## Oppgave a: obligatorisk"
   ]
  },
  {
   "cell_type": "markdown",
   "metadata": {
    "deletable": false,
    "editable": false,
    "run_control": {
     "frozen": true
    }
   },
   "source": [
    "\n"
   ]
  },
  {
   "cell_type": "code",
   "execution_count": 3,
   "metadata": {},
   "outputs": [],
   "source": [
    "matrise = [\n",
    "[1, 2, 3],\n",
    "[4, 5, 6],\n",
    "[7, 8, 9]]"
   ]
  },
  {
   "cell_type": "markdown",
   "metadata": {
    "deletable": false,
    "editable": false,
    "run_control": {
     "frozen": true
    }
   },
   "source": [
    "Elementene i matrisen kan hentes ut på følgende måte: **matrise[radnr][kolnr]**. \n",
    "\n",
    "*Husk at radnummer og kolonnenummer er null-indeksert (begynner på 0) i Python i motsetning til matematisk notasjon der de er 1-indeksert!*\n",
    "\n",
    "***Skriv koden din i boksen under.***"
   ]
  },
  {
   "cell_type": "code",
   "execution_count": 6,
   "metadata": {},
   "outputs": [
    {
     "ename": "TypeError",
     "evalue": "list indices must be integers or slices, not list",
     "output_type": "error",
     "traceback": [
      "\u001b[1;31m---------------------------------------------------------------------------\u001b[0m",
      "\u001b[1;31mTypeError\u001b[0m                                 Traceback (most recent call last)",
      "\u001b[1;32mc:\\Users\\manna\\Desktop\\ING-TA\\Assignment_04\\gangetabell_og_lister.ipynb Cell 6\u001b[0m line \u001b[0;36m<cell line: 11>\u001b[1;34m()\u001b[0m\n\u001b[0;32m      <a href='vscode-notebook-cell:/c%3A/Users/manna/Desktop/ING-TA/Assignment_04/gangetabell_og_lister.ipynb#W5sZmlsZQ%3D%3D?line=8'>9</a>\u001b[0m             list2 \u001b[39m.\u001b[39m append(i)\n\u001b[0;32m     <a href='vscode-notebook-cell:/c%3A/Users/manna/Desktop/ING-TA/Assignment_04/gangetabell_og_lister.ipynb#W5sZmlsZQ%3D%3D?line=9'>10</a>\u001b[0m     \u001b[39mreturn\u001b[39;00m list1, list2\n\u001b[1;32m---> <a href='vscode-notebook-cell:/c%3A/Users/manna/Desktop/ING-TA/Assignment_04/gangetabell_og_lister.ipynb#W5sZmlsZQ%3D%3D?line=10'>11</a>\u001b[0m \u001b[39mprint\u001b[39m(separate(matrise,threshold))\n",
      "\u001b[1;32mc:\\Users\\manna\\Desktop\\ING-TA\\Assignment_04\\gangetabell_og_lister.ipynb Cell 6\u001b[0m line \u001b[0;36mseparate\u001b[1;34m(matrise, threshold)\u001b[0m\n\u001b[0;32m      <a href='vscode-notebook-cell:/c%3A/Users/manna/Desktop/ING-TA/Assignment_04/gangetabell_og_lister.ipynb#W5sZmlsZQ%3D%3D?line=3'>4</a>\u001b[0m list2 \u001b[39m=\u001b[39m []\n\u001b[0;32m      <a href='vscode-notebook-cell:/c%3A/Users/manna/Desktop/ING-TA/Assignment_04/gangetabell_og_lister.ipynb#W5sZmlsZQ%3D%3D?line=4'>5</a>\u001b[0m \u001b[39mfor\u001b[39;00m i \u001b[39min\u001b[39;00m matrise:\n\u001b[1;32m----> <a href='vscode-notebook-cell:/c%3A/Users/manna/Desktop/ING-TA/Assignment_04/gangetabell_og_lister.ipynb#W5sZmlsZQ%3D%3D?line=5'>6</a>\u001b[0m     \u001b[39mif\u001b[39;00m matrise[i] \u001b[39m<\u001b[39m threshold:\n\u001b[0;32m      <a href='vscode-notebook-cell:/c%3A/Users/manna/Desktop/ING-TA/Assignment_04/gangetabell_og_lister.ipynb#W5sZmlsZQ%3D%3D?line=6'>7</a>\u001b[0m         list1 \u001b[39m.\u001b[39m append(i)\n\u001b[0;32m      <a href='vscode-notebook-cell:/c%3A/Users/manna/Desktop/ING-TA/Assignment_04/gangetabell_og_lister.ipynb#W5sZmlsZQ%3D%3D?line=7'>8</a>\u001b[0m     \u001b[39melse\u001b[39;00m:\n",
      "\u001b[1;31mTypeError\u001b[0m: list indices must be integers or slices, not list"
     ]
    }
   ],
   "source": [
    "threshold = 5\n",
    "def separate(matrise, threshold):\n",
    "    list1 = []\n",
    "    list2 = []\n",
    "    for i in matrise:\n",
    "        if matrise[i] < threshold:\n",
    "            list1 . append(i)\n",
    "        else:\n",
    "            list2 . append(i)\n",
    "    return list1, list2\n",
    "print(separate(matrise,threshold))"
   ]
  },
  {
   "cell_type": "markdown",
   "metadata": {
    "deletable": false,
    "editable": false,
    "run_control": {
     "frozen": true
    }
   },
   "source": [
    "## Oppgave b: obligatorisk"
   ]
  },
  {
   "cell_type": "markdown",
   "metadata": {
    "deletable": false,
    "editable": false,
    "run_control": {
     "frozen": true
    }
   },
   "source": [
    "Lag en funksjon **multiplication_table(n)** som tar inn et heltall n som parameter og returnerer gangetabellen fra 1 til n som en matrise med n rader og n kolonner.\n",
    "\n",
    "***Skriv koden din i boksen under.***"
   ]
  },
  {
   "cell_type": "code",
   "execution_count": null,
   "metadata": {},
   "outputs": [],
   "source": []
  },
  {
   "cell_type": "markdown",
   "metadata": {
    "deletable": false,
    "editable": false,
    "run_control": {
     "frozen": true
    }
   },
   "source": [
    "Har du implementert funksjon riktig skal koden under printe følgende matrise:\n",
    "\n",
    "\n",
    "```\n",
    "[[1, 2, 3, 4],\n",
    " [2, 4, 6, 8],\n",
    " [3, 6, 9, 12],\n",
    " [4, 8, 12, 16]]\n",
    " ```"
   ]
  },
  {
   "cell_type": "code",
   "execution_count": null,
   "metadata": {},
   "outputs": [],
   "source": [
    "print(multiplication_table(4))"
   ]
  },
  {
   "cell_type": "markdown",
   "metadata": {
    "deletable": false,
    "editable": false,
    "heading_collapsed": true,
    "run_control": {
     "frozen": true
    }
   },
   "source": [
    "#### Hint"
   ]
  },
  {
   "cell_type": "markdown",
   "metadata": {
    "deletable": false,
    "editable": false,
    "hidden": true,
    "run_control": {
     "frozen": true
    }
   },
   "source": [
    "Man kan legge til elementer (som også kan være lister) på slutten av en liste med **liste.append(element)**."
   ]
  }
 ],
 "metadata": {
  "kernelspec": {
   "display_name": "Python 3.8.5 32-bit",
   "language": "python",
   "name": "python3"
  },
  "language_info": {
   "codemirror_mode": {
    "name": "ipython",
    "version": 3
   },
   "file_extension": ".py",
   "mimetype": "text/x-python",
   "name": "python",
   "nbconvert_exporter": "python",
   "pygments_lexer": "ipython3",
   "version": "3.10.4"
  },
  "toc": {
   "base_numbering": 1,
   "nav_menu": {},
   "number_sections": false,
   "sideBar": true,
   "skip_h1_title": false,
   "title_cell": "Table of Contents",
   "title_sidebar": "Contents",
   "toc_cell": false,
   "toc_position": {},
   "toc_section_display": true,
   "toc_window_display": false
  },
  "vscode": {
   "interpreter": {
    "hash": "03299db1fae60594c2125507d91406fcab8a4e5ee4ae8637248853dec3226cad"
   }
  }
 },
 "nbformat": 4,
 "nbformat_minor": 2
}
